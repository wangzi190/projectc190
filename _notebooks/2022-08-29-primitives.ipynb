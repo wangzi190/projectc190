{
 "cells": [
  {
   "cell_type": "markdown",
   "metadata": {},
   "source": [
    "# Primitives\n",
    "> Week 1 Notes on Primitives\n",
    "\n",
    "- toc: true \n",
    "- badges: true\n",
    "- comments: true\n",
    "- categories: []\n",
    "- image: images/chart-preview.png"
   ]
  },
  {
   "cell_type": "markdown",
   "metadata": {},
   "source": [
    "Primitive data types, or \"primitives,\" are types of data with fixed definitions. Java has eight primitive data types: boolean, float, double, byte, short, int, long, and char. As a specific example, the \"short\" data type is a twos-complement integer stored in 16 bits. It is a primitive data type because its definition is fixed.\n",
    "\n",
    "Accordingly, a non-primitive data type is one created by the programmer, and not defined by the programming language. Non-primitive data types in Java include Classes, Objects, Arrays, and Strings."
   ]
  },
  {
   "cell_type": "code",
   "execution_count": 2,
   "metadata": {
    "vscode": {
     "languageId": "shellscript"
    }
   },
   "outputs": [],
   "source": [
    "public class Main {\n",
    "    String myStr = \"Creating an instance of a class\";\n",
    "    \n",
    "    public static void main(String[] args) {\n",
    "        Main newObject = new Main();\n",
    "        System.out.println(newObject.myStr);\n",
    "    }\n",
    "}"
   ]
  }
 ],
 "metadata": {
  "kernelspec": {
   "display_name": "Bash",
   "language": "bash",
   "name": "bash"
  },
  "language_info": {
   "codemirror_mode": "java",
   "file_extension": ".jshell",
   "mimetype": "text/x-java-source",
   "name": "bash",
   "pygments_lexer": "java",
   "version": "11.0.16+8-post-Ubuntu-0ubuntu120.04"
  },
  "orig_nbformat": 4
 },
 "nbformat": 4,
 "nbformat_minor": 2
}
