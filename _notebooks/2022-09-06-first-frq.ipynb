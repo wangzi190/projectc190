{
 "cells": [
  {
   "cell_type": "markdown",
   "metadata": {},
   "source": [
    "This is my solution to question #1 on the 2018 AP CSA FRQ.\n",
    "Below is what I wrote to process the information I was initially provided."
   ]
  },
  {
   "cell_type": "code",
   "execution_count": null,
   "metadata": {},
   "outputs": [],
   "source": [
    "// The below should be declared or defined in public class FrogSimulation {}\n",
    "\n",
    "// Variables: goalDistance, maxHops (self explanatory)\n",
    "\n",
    "/* Functions:\n",
    "\n",
    "public FrogSimulation(int dist, int numHops) {\n",
    "    goalDistance = dist;\n",
    "    maxHops = numHops;\n",
    "} //Sets the variables to appropriate numbers for the simulation\n",
    "\n",
    "private int hopDistance() {\n",
    "    //Implementation not shown\n",
    "}\n",
    "\n",
    "public boolean simulate() {\n",
    "    //To be implemented in part (a)\n",
    "}\n",
    "\n",
    "public double runSimulations(int num) {\n",
    "    //To be implemented in part (b)\n",
    "}\n",
    "\n",
    " */"
   ]
  },
  {
   "cell_type": "markdown",
   "metadata": {},
   "source": [
    "Here is my solution for part (a)."
   ]
  },
  {
   "cell_type": "code",
   "execution_count": null,
   "metadata": {},
   "outputs": [],
   "source": [
    "public class FrogSimulation {\n",
    "\n",
    "    public boolean simulate() {\n",
    "        int position = 0; //Declares 'position' variable and sets it to 0\n",
    "        for (int i = 0; i < maxHops; i++) {\n",
    "            position += hopDistance(); //Adds hopDistance output to existing variable 'position'\n",
    "            if (position >= goalDistance) { //If position is greater than or equal to goalDistance...\n",
    "                return true; //...then return true.\n",
    "            } else { //If otherwise,\n",
    "                return false; //return false.\n",
    "            }\n",
    "        }\n",
    "    }\n",
    "\n",
    "}"
   ]
  },
  {
   "cell_type": "markdown",
   "metadata": {},
   "source": [
    "Here is my solution for part (b)."
   ]
  },
  {
   "cell_type": "code",
   "execution_count": null,
   "metadata": {},
   "outputs": [],
   "source": [
    "public class FrogSimulation {\n",
    "\n",
    "    public double runSimulations(int num) {\n",
    "        int successCount = 0; //Declares 'successCount' variable and sets it to 0\n",
    "        for (int i = 0; i < num; i++) {\n",
    "            if(simulate()) { //If the 'simulate' method returns true...\n",
    "                countSuccess++; //...then increment countSuccess by 1\n",
    "            }\n",
    "        }\n",
    "        //Number of successes over total amount of simulations ran\n",
    "        return (double)successCount / num;\n",
    "    }\n",
    "\n",
    "}"
   ]
  }
 ],
 "metadata": {
  "kernelspec": {
   "display_name": "Java",
   "language": "java",
   "name": "java"
  },
  "language_info": {
   "name": "java",
   "version": "3.8.10"
  },
  "orig_nbformat": 4,
  "vscode": {
   "interpreter": {
    "hash": "916dbcbb3f70747c44a77c7bcd40155683ae19c65e1c03b4aa3499c5328201f1"
   }
  }
 },
 "nbformat": 4,
 "nbformat_minor": 2
}
