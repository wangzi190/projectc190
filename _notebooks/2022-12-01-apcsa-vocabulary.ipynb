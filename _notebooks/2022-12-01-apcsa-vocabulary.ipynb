{
 "cells": [
  {
   "attachments": {},
   "cell_type": "markdown",
   "metadata": {},
   "source": [
    "Casting, specifically for Division\n",
    "Casting, specifically for Truncating or Rounding\n",
    "Wrapper Classes, why wrap int, double. Show examples\n",
    "Concatenation, explain or illustrate rules on mixed type Concatenation\n",
    "Math class, specifically Random usage\n",
    "Compound Boolean Expression\n",
    "Truth Tables\n",
    "De Morgan’s Law\n",
    "Comparing Numbers\n",
    "Comparing Strings\n",
    "Comparing Objects\n",
    "for loop, enhanced for loop\n",
    "while loop versus do while loop\n",
    "nested loops\n",
    "Creating a Class, describe Naming Conventions\n",
    "Constructor, describe why there is no return\n",
    "Accessor methods, relationship to getter\n",
    "Mutator methods, relationship to setter, describe void return type\n",
    "Static variables, Class variables, show use case in code\n",
    "Show use case of access modifiers: Public, Private, Protected\n",
    "Static methods, Class methods\n",
    "this Keyword\n",
    "main method, tester methods\n",
    "Inheritance, extends\n",
    "Subclass constructor, super Keyword\n",
    "Overloading a method, same name different parameters\n",
    "Overriding a method, same signature of a method\n",
    "Abstract Class, Abstract Method\n",
    "Standard methods: toString(), equals(), hashCode()\n",
    "Late binding of object, referencing superclass object, ie Animal a = new Chicken(); Animal b = new Goat();\n",
    "Polymorphism: any of overloading, overriding, late binding\n",
    "Big O notation for Hash map, Binary Search, Single loop, Nested Loop"
   ]
  },
  {
   "cell_type": "code",
   "execution_count": null,
   "metadata": {},
   "outputs": [],
   "source": []
  }
 ],
 "metadata": {
  "language_info": {
   "name": "python"
  },
  "orig_nbformat": 4
 },
 "nbformat": 4,
 "nbformat_minor": 2
}
