{
 "cells": [
  {
   "cell_type": "code",
   "execution_count": 16,
   "metadata": {},
   "outputs": [
    {
     "name": "stdout",
     "output_type": "stream",
     "text": [
      "9\n",
      "9.0\n",
      "9\n",
      "9.78\n"
     ]
    }
   ],
   "source": [
    "/*\n",
    "Type casting is when you assign a value of one primitive data type to another type.\n",
    "This can occur in various instances, like when you are dividing, truncating, or rounding, for example.\n",
    "*/\n",
    "int varInt = 9;\n",
    "double varDouble = varInt; // Automatic casting: int to double\n",
    "\n",
    "System.out.println(varInt); // Outputs 9\n",
    "System.out.println(varDouble); // Outputs 9.0\n",
    "\n",
    "varDouble = 9.78d;\n",
    "varInt = (int) varDouble; // Manual casting: double to int\n",
    "\n",
    "System.out.println(varInt); // Outputs 9\n",
    "System.out.println(varDouble); // Outputs 9.78"
   ]
  },
  {
   "cell_type": "code",
   "execution_count": 38,
   "metadata": {},
   "outputs": [
    {
     "name": "stdout",
     "output_type": "stream",
     "text": [
      "5\n",
      "5\n",
      "7\n"
     ]
    }
   ],
   "source": [
    "/*\n",
    "Wrapper classes\n",
    "Example:\n",
    "\n",
    "Primitive type --> int\n",
    "Wrapper class --> Integer\n",
    "*/\n",
    "\n",
    "Integer variable = 5;\n",
    "System.out.println(variable);\n",
    "\n",
    "// Because \"Integer\" is an object, you can now use various methods on the object.\n",
    "\n",
    "System.out.println(variable.intValue());\n",
    "\n",
    "Integer intVariable = 1000000;\n",
    "String convert = intVariable.toString();\n",
    "System.out.println(convert.length());"
   ]
  },
  {
   "cell_type": "code",
   "execution_count": 51,
   "metadata": {},
   "outputs": [
    {
     "name": "stdout",
     "output_type": "stream",
     "text": [
      "Hello world!\n",
      "Hello world!\n"
     ]
    }
   ],
   "source": [
    "// Concatenation\n",
    "\n",
    "String wordOne = \"Hello \";\n",
    "String wordTwo = \"world!\";\n",
    "System.out.println(wordOne + wordTwo);\n",
    "System.out.println(wordOne.concat(wordTwo));"
   ]
  },
  {
   "cell_type": "code",
   "execution_count": 96,
   "metadata": {},
   "outputs": [
    {
     "name": "stdout",
     "output_type": "stream",
     "text": [
      "56\n"
     ]
    }
   ],
   "source": [
    "// Math class, Math.random()\n",
    "\n",
    "/*\n",
    "The Java Math class has methods you can use to perform various mathematical tasks on numbers.\n",
    "One of these methods is the Math.random() method.\n",
    " */\n",
    "\n",
    "Math.random(); // This returns a random number between [0.0, 1.0).\n",
    "// Say you want a random number 1-100. Then, you would do this:\n",
    "int oneToHundred = (int)(Math.random() * 101);\n",
    "System.out.println(oneToHundred);\n"
   ]
  },
  {
   "cell_type": "code",
   "execution_count": 97,
   "metadata": {},
   "outputs": [],
   "source": [
    "// Compound boolean expressions\n",
    "int score = 10;\n",
    "\n",
    "if (score < 0 || score > 100) {\n",
    "    System.out.println(\"Score has an illegal value.\");\n",
    "} if (score >= 0 && score <= 100) {\n",
    "    System.out.println(\"Score is in the range 0-100\");\n",
    "}"
   ]
  },
  {
   "cell_type": "code",
   "execution_count": 128,
   "metadata": {},
   "outputs": [
    {
     "name": "stdout",
     "output_type": "stream",
     "text": [
      "false\n",
      "false\n",
      "true\n",
      "true\n"
     ]
    }
   ],
   "source": [
    "// De Morgan's law and truth tables\n",
    "\n",
    "/*\n",
    "NOT (A or B) = (NOT A) and (NOT B)\n",
    "NOT (A and B) = (NOT A) or (NOT B)\n",
    "*/\n",
    "\n",
    "boolean A = true; // Regardless of what A or B actually are, the equations above are always true.\n",
    "boolean B = false;\n",
    "\n",
    "boolean boolOne = !(A || B); // According to De Morgan's law, these two statements are equivalent.\n",
    "boolean boolTwo = (!A) && (!B);\n",
    "\n",
    "System.out.println(boolOne);\n",
    "System.out.println(boolTwo);\n",
    "\n",
    "boolOne = !(A && B); // According to De Morgan's law, these two statements are equivalent.\n",
    "boolTwo = (!A) || (!B);\n",
    "\n",
    "System.out.println(boolOne);\n",
    "System.out.println(boolTwo);"
   ]
  },
  {
   "cell_type": "code",
   "execution_count": 141,
   "metadata": {},
   "outputs": [
    {
     "name": "stdout",
     "output_type": "stream",
     "text": [
      "false\n",
      "true\n",
      "true\n",
      "true\n"
     ]
    }
   ],
   "source": [
    "/*\n",
    "Comparing numbers, strings, and objects\n",
    "You can use various Java methods to make comparisons between numbers, strings, and objects.\n",
    "*/\n",
    "\n",
    "int x = 5;\n",
    "int y = 7;\n",
    "// Use operators such as ==, <, or > to compare numbers\n",
    "System.out.println(5 == 7);\n",
    "System.out.println(7 > 5);\n",
    "\n",
    "\n",
    "String wordOne = \"hello\";\n",
    "String wordTwo = \"hello\";\n",
    "// You can use the == operator to compare strings.\n",
    "System.out.println(wordOne == wordTwo); // This will return \"true\"\n",
    "// You can also use stringOne.equals(stringTwo)\n",
    "System.out.println(wordOne.equals(wordTwo)); // Also returns \"true\""
   ]
  },
  {
   "cell_type": "code",
   "execution_count": null,
   "metadata": {},
   "outputs": [],
   "source": [
    "String[] colors = {\"red\", \"orange\", \"yellow\", \"green\", \"blue\", \"indigo\", \"violet\"};\n",
    "\n",
    "// A for loop\n",
    "for (int i = 0; i < colors.length; i++) {\n",
    "  System.out.println(colors[i]);\n",
    "}\n",
    "\n",
    "// A for-each loop, aka enhanced for loop\n",
    "for (String i : colors) {\n",
    "  System.out.println(i);\n",
    "}\n",
    "\n",
    "// A while loop\n",
    "int i = 0;\n",
    "while (i < colors.length) {\n",
    "  System.out.println(colors[i]);\n",
    "  i++;\n",
    "}\n",
    "\n",
    "// A do-while loop\n",
    "i = 0;\n",
    "do {\n",
    "  System.out.println(colors[i]);\n",
    "  i++;\n",
    "} while (i < colors.length);\n",
    "\n",
    "// Nested loops\n",
    "for (int i = 0; i < 2; i++) {\n",
    "  for (int j = 0; j < colors.length; j++) {\n",
    "    System.out.println(colors[j]);\n",
    "  }\n",
    "} // ^ Prints each item in the array in order twice"
   ]
  },
  {
   "cell_type": "code",
   "execution_count": 144,
   "metadata": {},
   "outputs": [],
   "source": [
    "/*\n",
    "Constructors\n",
    "The constructor must not have a return type, and its name must match the class name.\n",
    "*/\n",
    "\n",
    "public class Main {\n",
    "    int x; // This is a class attribute\n",
    "    public Main () {\n",
    "        x = 5; // This is the initual value for the class attribute.\n",
    "    }\n",
    "    public static void main(String[] args) {\n",
    "        Main object = new Main(); // This calls the constructor, and creates an object of class \"Main\"\n",
    "        System.out.println(object.x);\n",
    "    }\n",
    "}\n"
   ]
  },
  {
   "cell_type": "code",
   "execution_count": null,
   "metadata": {},
   "outputs": [],
   "source": [
    "/*\n",
    "Acessor (getter) and mutator (setter) methods\n",
    "You cannot access or set private variables because those variables are exlusive to the class they were initialized in.\n",
    "However, you can bypass this by using \"getters\" and \"setters\".\n",
    "*/\n",
    "\n",
    "public class Main {\n",
    "    private int number;\n",
    "    \n",
    "    public String getNumber() { // Getter\n",
    "        return number;\n",
    "    }\n",
    "    public void setNumber(int newNumber) { // Setter\n",
    "        this.number = newNumber;\n",
    "    }\n",
    "}"
   ]
  },
  {
   "cell_type": "code",
   "execution_count": null,
   "metadata": {},
   "outputs": [],
   "source": [
    "/*\n",
    "Class variables --> variable declared within a particular class\n",
    "static variables --> variable whose value does not change/is static\n",
    "\n",
    "Access modifiers set the access level for classes, attributes, methods, and constructors.\n",
    "The \"public\" keyword makes a class accessible by any other class, whereas the \"prive\" class makes the code within the class only accessible within the declared class.\n",
    "(See w3schools.com/java/java_modifiers.asp for more)\n",
    "*/\n",
    "\n",
    "// (Same code as above cell)\n",
    "public class Main {\n",
    "    private int number; // Private class variable accessible only within this class\n",
    "    \n",
    "    public String getNumber() { // \"Public\" access modifier makes this method (and by extension the private variable) accessible outside of the class it is declared in\n",
    "        return number;\n",
    "    }\n",
    "    public void setNumber(int newNumber) { // \"Public\" access modifier makes this method (and by extension the private variable) accessible outside of the class it is declared in\n",
    "        this.number = newNumber;\n",
    "    }\n",
    "}"
   ]
  },
  {
   "cell_type": "code",
   "execution_count": null,
   "metadata": {},
   "outputs": [],
   "source": [
    "// Static methods, Class methods\n",
    "public class Main {\n",
    "    // Static method\n",
    "    static void myStaticMethod() {\n",
    "      System.out.println(\"Static methods can be called without creating objects\");\n",
    "    }\n",
    "  \n",
    "    // Public method\n",
    "    public void myPublicMethod() {\n",
    "      System.out.println(\"Public methods must be called by creating objects\");\n",
    "    }\n",
    "  \n",
    "    // Main method\n",
    "    public static void main(String[ ] args) {\n",
    "      myStaticMethod(); // Call the static method\n",
    "      // myPublicMethod(); This would output an error\n",
    "  \n",
    "      Main myObj = new Main(); // Create an object of Main\n",
    "      myObj.myPublicMethod(); // Call the public method\n",
    "    }\n",
    "}"
   ]
  },
  {
   "cell_type": "code",
   "execution_count": null,
   "metadata": {},
   "outputs": [],
   "source": [
    "/*\n",
    "\"this\" keyword\n",
    "The \"this\" keyword is used to refer to the current class instance variable or method.\n",
    "*/\n",
    "\n",
    "public class Main {\n",
    "    int x;\n",
    "\n",
    "    public Main(int x) { // Constructor\n",
    "        this.x = x;\n",
    "    }\n",
    "\n",
    "    public static void main(String[] args) {\n",
    "        Main object = new Main(7);\n",
    "    }\n",
    "}"
   ]
  },
  {
   "cell_type": "code",
   "execution_count": null,
   "metadata": {},
   "outputs": [],
   "source": [
    "/*\n",
    "Main and test methods\n",
    "*/\n",
    "\n",
    "public static void main(String[] args) {\n",
    "    // Call methods here\n",
    "}"
   ]
  },
  {
   "cell_type": "code",
   "execution_count": 148,
   "metadata": {},
   "outputs": [],
   "source": [
    "/*\n",
    "Inheritance, extends\n",
    "Subclasses can inherit methods and attributes from superclasses.\n",
    "Use the \"extends\" keyword to pass the methods and attributes from superclass to subclass.\n",
    "*/\n",
    "\n",
    "class Vehicle {\n",
    "    protected String brand = \"Ford\"; // Vehicle attribute\n",
    "    public void honk() { // Vehicle method\n",
    "      System.out.println(\"Tuut, tuut!\");\n",
    "    }\n",
    "}\n",
    "  \n",
    "  class Car extends Vehicle {\n",
    "    private String modelName = \"Mustang\"; // Car attribute\n",
    "    public static void main(String[] args) {\n",
    "  \n",
    "      // Create a myCar object\n",
    "      Car myCar = new Car();\n",
    "  \n",
    "      // Call the honk() method (from the Vehicle class) on the myCar object\n",
    "      myCar.honk();\n",
    "  \n",
    "      // Display the value of the brand attribute (from the Vehicle class) and the value of the modelName from the Car class\n",
    "      System.out.println(myCar.brand + \" \" + myCar.modelName);\n",
    "    }\n",
    "}\n",
    "// Code in this cell via w3schools"
   ]
  },
  {
   "cell_type": "code",
   "execution_count": 149,
   "metadata": {},
   "outputs": [],
   "source": [
    "// Subclass constructor, \"super\" keyword\n",
    "\n",
    "/*\n",
    "From 9.4 on AP CSA blog :\n",
    "A subclass can call a constructor defined by its superclass with the “super” keyword as shown:\n",
    "    super(parameters);\n",
    "Super() must be the first statement executed inside a subclass constructor.\n",
    "*/\n",
    "\n",
    "class Animal {\n",
    "    public void whatIsThis() {\n",
    "        System.out.println(\"This is an animal.\");\n",
    "    }\n",
    "}\n",
    "\n",
    "class Bird extends Animal {\n",
    "    public void whatIsThis() {\n",
    "        super.whatIsThis();\n",
    "        System.out.println(\"This is a bird.\");\n",
    "    }\n",
    "}\n",
    "\n",
    "public class Main {\n",
    "    public static void main(String[] args) {\n",
    "        Animal tytoAlba = new Bird();\n",
    "        tytoAlba.whatIsThis();\n",
    "    }\n",
    "}"
   ]
  },
  {
   "cell_type": "code",
   "execution_count": null,
   "metadata": {},
   "outputs": [],
   "source": [
    "/*\n",
    "Overloading methods --> You have two methods with the same name, but different signatures (parameters).\n",
    "*/\n",
    "\n",
    "public static int addition(int x, int y) {\n",
    "    return x + y;\n",
    "}\n",
    "\n",
    "public static int addition(int x, int y, int z) {\n",
    "    return x + y + z;\n",
    "}"
   ]
  },
  {
   "attachments": {},
   "cell_type": "markdown",
   "metadata": {},
   "source": [
    "Abstract classes and abstract methods<br>\n",
    "(Think data abstraction)<br><br>\n",
    "\n",
    "Just check out w3schools.com/java/java_abstract.asp<br>\n",
    "Holy shit"
   ]
  },
  {
   "cell_type": "code",
   "execution_count": null,
   "metadata": {},
   "outputs": [],
   "source": [
    "/*\n",
    ".hashCode()\n",
    "Gets the hashcode (an integer value generated by a hashing algorithm) of a method object\n",
    "*/\n",
    "\n",
    "int hashCode = method.hashCode();"
   ]
  },
  {
   "attachments": {},
   "cell_type": "markdown",
   "metadata": {},
   "source": [
    "Late binding of object<br>\n",
    "Referencing superclass object<br>\n",
    "( e.g. Animal a = new Chicken(); Animal b = new Goat(); )<br><br>\n",
    "\n",
    "Beautifully put by Wikipedia<br>\n",
    "\"In computing, late binding or dynamic linkage—though not an identical process to dynamically linking imported code libraries—is a computer programming mechanism in which the method being called upon an object, or the function being called with arguments, is looked up by name at runtime. In other words, a name is associated with a particular operation or object at runtime, rather than during compilation. The name dynamic binding is sometimes used, but is more commonly used to refer to dynamic scope.\""
   ]
  },
  {
   "cell_type": "code",
   "execution_count": null,
   "metadata": {},
   "outputs": [],
   "source": [
    "/*\n",
    "Polymorphism\n",
    "Overloading, overriding, late binding\n",
    "*/\n",
    "\n",
    "class Animal {\n",
    "    public void whatIsThis() {\n",
    "        System.out.println(\"This is an animal.\");\n",
    "    }\n",
    "}\n",
    "\n",
    "class Bird extends Animal {\n",
    "    public void whatIsThis() {\n",
    "        super.whatIsThis();\n",
    "        System.out.println(\"This is a bird.\");\n",
    "    }\n",
    "}\n",
    "\n",
    "public class Main {\n",
    "    public static void main(String[] args) {\n",
    "        Animal tytoAlba = new Bird();\n",
    "        tytoAlba.whatIsThis();\n",
    "    }\n",
    "}"
   ]
  },
  {
   "attachments": {},
   "cell_type": "markdown",
   "metadata": {},
   "source": [
    "Big O notation<br>\n",
    "Hash map, Binary Search, Single loop, and Nested Loop<br><br>\n",
    "\n",
    "Big O notation describes the complexity of computer programs in algebraic terms."
   ]
  }
 ],
 "metadata": {
  "kernelspec": {
   "display_name": "Java",
   "language": "java",
   "name": "java"
  },
  "language_info": {
   "codemirror_mode": "java",
   "file_extension": ".jshell",
   "mimetype": "text/x-java-source",
   "name": "java",
   "pygments_lexer": "java",
   "version": "11.0.16+8-post-Ubuntu-0ubuntu120.04"
  },
  "orig_nbformat": 4,
  "vscode": {
   "interpreter": {
    "hash": "916dbcbb3f70747c44a77c7bcd40155683ae19c65e1c03b4aa3499c5328201f1"
   }
  }
 },
 "nbformat": 4,
 "nbformat_minor": 2
}
