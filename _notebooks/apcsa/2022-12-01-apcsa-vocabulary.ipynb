{
 "cells": [
  {
   "cell_type": "code",
   "execution_count": 16,
   "metadata": {
    "vscode": {
     "languageId": "java"
    }
   },
   "outputs": [
    {
     "name": "stdout",
     "output_type": "stream",
     "text": [
      "9\n",
      "9.0\n",
      "9\n",
      "9.78\n"
     ]
    }
   ],
   "source": [
    "/*\n",
    "Type casting is when you assign a value of one primitive data type to another type.\n",
    "This can occur in various instances, like when you are dividing, truncating, or rounding, for example.\n",
    "*/\n",
    "int varInt = 9;\n",
    "double varDouble = varInt; // Automatic casting: int to double\n",
    "\n",
    "System.out.println(varInt); // Outputs 9\n",
    "System.out.println(varDouble); // Outputs 9.0\n",
    "\n",
    "varDouble = 9.78d;\n",
    "varInt = (int) varDouble; // Manual casting: double to int\n",
    "\n",
    "System.out.println(varInt); // Outputs 9\n",
    "System.out.println(varDouble); // Outputs 9.78"
   ]
  },
  {
   "cell_type": "code",
   "execution_count": 38,
   "metadata": {
    "vscode": {
     "languageId": "java"
    }
   },
   "outputs": [
    {
     "name": "stdout",
     "output_type": "stream",
     "text": [
      "5\n",
      "5\n",
      "7\n"
     ]
    }
   ],
   "source": [
    "/*\n",
    "Wrapper classes\n",
    "Example:\n",
    "\n",
    "Primitive type --> int\n",
    "Wrapper class --> Integer\n",
    "*/\n",
    "\n",
    "Integer variable = 5;\n",
    "System.out.println(variable);\n",
    "\n",
    "// Because \"Integer\" is an object, you can now use various methods on the object.\n",
    "\n",
    "System.out.println(variable.intValue());\n",
    "\n",
    "Integer intVariable = 1000000;\n",
    "String convert = intVariable.toString();\n",
    "System.out.println(convert.length());"
   ]
  },
  {
   "cell_type": "code",
   "execution_count": 51,
   "metadata": {
    "vscode": {
     "languageId": "java"
    }
   },
   "outputs": [
    {
     "name": "stdout",
     "output_type": "stream",
     "text": [
      "Hello world!\n",
      "Hello world!\n"
     ]
    }
   ],
   "source": [
    "// Concatenation\n",
    "\n",
    "String wordOne = \"Hello \";\n",
    "String wordTwo = \"world!\";\n",
    "System.out.println(wordOne + wordTwo);\n",
    "System.out.println(wordOne.concat(wordTwo));"
   ]
  },
  {
   "cell_type": "code",
   "execution_count": 96,
   "metadata": {
    "vscode": {
     "languageId": "java"
    }
   },
   "outputs": [
    {
     "name": "stdout",
     "output_type": "stream",
     "text": [
      "56\n"
     ]
    }
   ],
   "source": [
    "// Math class, Math.random()\n",
    "\n",
    "/*\n",
    "The Java Math class has methods you can use to perform various mathematical tasks on numbers.\n",
    "One of these methods is the Math.random() method.\n",
    " */\n",
    "\n",
    "Math.random(); // This returns a random number between [0.0, 1.0).\n",
    "// Say you want a random number 1-100. Then, you would do this:\n",
    "int oneToHundred = (int)(Math.random() * 101);\n",
    "System.out.println(oneToHundred);\n"
   ]
  },
  {
   "cell_type": "code",
   "execution_count": 97,
   "metadata": {
    "vscode": {
     "languageId": "java"
    }
   },
   "outputs": [],
   "source": [
    "// Compound boolean expressions\n",
    "int score = 10;\n",
    "\n",
    "if (score < 0 || score > 100) {\n",
    "    System.out.println(\"Score has an illegal value.\");\n",
    "} if (score >= 0 && score <= 100) {\n",
    "    System.out.println(\"Score is in the range 0-100\");\n",
    "}"
   ]
  },
  {
   "cell_type": "code",
   "execution_count": 128,
   "metadata": {
    "vscode": {
     "languageId": "java"
    }
   },
   "outputs": [
    {
     "name": "stdout",
     "output_type": "stream",
     "text": [
      "false\n",
      "false\n",
      "true\n",
      "true\n"
     ]
    }
   ],
   "source": [
    "// De Morgan's law and truth tables\n",
    "\n",
    "/*\n",
    "NOT (A or B) = (NOT A) and (NOT B)\n",
    "NOT (A and B) = (NOT A) or (NOT B)\n",
    "*/\n",
    "\n",
    "boolean A = true; // Regardless of what A or B actually are, the equations above are always true.\n",
    "boolean B = false;\n",
    "\n",
    "boolean boolOne = !(A || B); // According to De Morgan's law, these two statements are equivalent.\n",
    "boolean boolTwo = (!A) && (!B);\n",
    "\n",
    "System.out.println(boolOne);\n",
    "System.out.println(boolTwo);\n",
    "\n",
    "boolOne = !(A && B); // According to De Morgan's law, these two statements are equivalent.\n",
    "boolTwo = (!A) || (!B);\n",
    "\n",
    "System.out.println(boolOne);\n",
    "System.out.println(boolTwo);"
   ]
  },
  {
   "cell_type": "code",
   "execution_count": 129,
   "metadata": {
    "vscode": {
     "languageId": "java"
    }
   },
   "outputs": [],
   "source": [
    "/*\n",
    "Comparing numbers, strings, and objects\n",
    "You can use various Java methods to make comparisons between numbers, strings, and objects.\n",
    "*/\n",
    "\n"
   ]
  },
  {
   "cell_type": "code",
   "execution_count": null,
   "metadata": {
    "vscode": {
     "languageId": "java"
    }
   },
   "outputs": [],
   "source": [
    "String[] colors = {\"red\", \"orange\", \"yellow\", \"green\", \"blue\", \"indigo\", \"violet\"};\n",
    "\n",
    "// A for loop\n",
    "for (int i = 0; i < colors.length; i++) {\n",
    "  System.out.println(colors[i]);\n",
    "}\n",
    "\n",
    "// A for-each loop, aka enhanced for loop\n",
    "for (String i : colors) {\n",
    "  System.out.println(i);\n",
    "}\n",
    "\n",
    "// A while loop\n",
    "int i = 0;\n",
    "while (i < colors.length) {\n",
    "  System.out.println(colors[i]);\n",
    "  i++;\n",
    "}\n",
    "\n",
    "// A do-while loop\n",
    "i = 0;\n",
    "do {\n",
    "  System.out.println(colors[i]);\n",
    "  i++;\n",
    "} while (i < colors.length);\n",
    "\n",
    "// Nested loops\n",
    "for (int i = 0; i < 2; i++) {\n",
    "  for (int j = 0; j < colors.length; j++) {\n",
    "    System.out.println(colors[j]);\n",
    "  }\n",
    "} // ^ Prints each item in the array in order twice"
   ]
  },
  {
   "cell_type": "code",
   "execution_count": 131,
   "metadata": {
    "vscode": {
     "languageId": "java"
    }
   },
   "outputs": [],
   "source": [
    "// Constructor (Why is there no \"return\" statement?)"
   ]
  },
  {
   "cell_type": "code",
   "execution_count": 132,
   "metadata": {
    "vscode": {
     "languageId": "java"
    }
   },
   "outputs": [],
   "source": [
    "// Acessor methods, relationship to getter\n",
    "// Mutator methods, relationship to setter, describe void return type"
   ]
  },
  {
   "cell_type": "code",
   "execution_count": 133,
   "metadata": {
    "vscode": {
     "languageId": "java"
    }
   },
   "outputs": [],
   "source": [
    "// Static variables, Class variables (Show use case in code)\n",
    "// Show use case of access modifiers public, private, and protected"
   ]
  },
  {
   "cell_type": "code",
   "execution_count": 134,
   "metadata": {
    "vscode": {
     "languageId": "java"
    }
   },
   "outputs": [],
   "source": [
    "// Static methods, Class methods"
   ]
  },
  {
   "cell_type": "code",
   "execution_count": 135,
   "metadata": {
    "vscode": {
     "languageId": "java"
    }
   },
   "outputs": [],
   "source": [
    "// \"this\" keyword"
   ]
  },
  {
   "cell_type": "code",
   "execution_count": 136,
   "metadata": {
    "vscode": {
     "languageId": "java"
    }
   },
   "outputs": [],
   "source": [
    "/*\n",
    "main method, tester methods\n",
    "Inheritance, extends\n",
    "Subclass constructor, super Keyword\n",
    "Overloading a method, same name different parameters\n",
    "Overriding a method, same signature of a method\n",
    "Abstract Class, Abstract Method\n",
    "Standard methods: toString(), equals(), hashCode()\n",
    "Late binding of object, referencing superclass object, ie Animal a = new Chicken(); Animal b = new Goat();\n",
    "Polymorphism: any of overloading, overriding, late binding\n",
    "Big O notation for Hash map, Binary Search, Single loop, Nested Loop\n",
    "*/"
   ]
  }
 ],
 "metadata": {
  "kernelspec": {
   "display_name": "Java",
   "language": "java",
   "name": "java"
  },
  "language_info": {
   "codemirror_mode": "java",
   "file_extension": ".jshell",
   "mimetype": "text/x-java-source",
   "name": "Java",
   "pygments_lexer": "java",
   "version": "11.0.16+8-post-Ubuntu-0ubuntu120.04"
  },
  "orig_nbformat": 4,
  "vscode": {
   "interpreter": {
    "hash": "916dbcbb3f70747c44a77c7bcd40155683ae19c65e1c03b4aa3499c5328201f1"
   }
  }
 },
 "nbformat": 4,
 "nbformat_minor": 2
}
