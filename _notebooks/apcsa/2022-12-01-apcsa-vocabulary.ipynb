{
 "cells": [
  {
   "attachments": {},
   "cell_type": "markdown",
   "metadata": {},
   "source": [
    "Casting when dividing, truncating, or rounding<br>\n",
    "Type casting is when you assign a value of one primitive data type to another type."
   ]
  },
  {
   "cell_type": "code",
   "execution_count": null,
   "metadata": {},
   "outputs": [],
   "source": []
  },
  {
   "attachments": {},
   "cell_type": "markdown",
   "metadata": {},
   "source": [
    "Wrapper classes with int and double variable types<br>\n",
    "Wrapper classes provide a way to use primitive data types (int, boolean, etc..) as objects."
   ]
  },
  {
   "cell_type": "code",
   "execution_count": null,
   "metadata": {},
   "outputs": [],
   "source": []
  },
  {
   "attachments": {},
   "cell_type": "markdown",
   "metadata": {},
   "source": [
    "Concatenation, mixed type concatenation rules"
   ]
  },
  {
   "attachments": {},
   "cell_type": "markdown",
   "metadata": {},
   "source": [
    "Math class, Math.random()"
   ]
  },
  {
   "attachments": {},
   "cell_type": "markdown",
   "metadata": {},
   "source": [
    "Compound boolean expressions"
   ]
  },
  {
   "attachments": {},
   "cell_type": "markdown",
   "metadata": {},
   "source": [
    "Truth tables"
   ]
  },
  {
   "attachments": {},
   "cell_type": "markdown",
   "metadata": {},
   "source": [
    "De Morgan’s law"
   ]
  },
  {
   "attachments": {},
   "cell_type": "markdown",
   "metadata": {},
   "source": [
    "Comparing numbers, strings, and objects"
   ]
  },
  {
   "attachments": {},
   "cell_type": "markdown",
   "metadata": {},
   "source": [
    "for loops, enhanced for loops<br>\n",
    "while loops, do while loops<br>\n",
    "and nested loops"
   ]
  },
  {
   "attachments": {},
   "cell_type": "markdown",
   "metadata": {},
   "source": [
    "Creating a class; class naming conventions\n",
    "Constructor (Why is there no \"return\" statement?)\n",
    "Accessor methods, relationship to getter\n",
    "Mutator methods, relationship to setter, describe void return type\n",
    "Static variables, Class variables, show use case in code\n",
    "Show use case of access modifiers: Public, Private, Protected\n",
    "Static methods, Class methods\n",
    "this Keyword\n",
    "main method, tester methods\n",
    "Inheritance, extends\n",
    "Subclass constructor, super Keyword\n",
    "Overloading a method, same name different parameters\n",
    "Overriding a method, same signature of a method\n",
    "Abstract Class, Abstract Method\n",
    "Standard methods: toString(), equals(), hashCode()\n",
    "Late binding of object, referencing superclass object, ie Animal a = new Chicken(); Animal b = new Goat();\n",
    "Polymorphism: any of overloading, overriding, late binding\n",
    "Big O notation for Hash map, Binary Search, Single loop, Nested Loop"
   ]
  }
 ],
 "metadata": {
  "kernelspec": {
   "display_name": "Python 3",
   "language": "python",
   "name": "python3"
  },
  "language_info": {
   "name": "python",
   "version": "3.8.10 (default, Jun 22 2022, 20:18:18) \n[GCC 9.4.0]"
  },
  "orig_nbformat": 4,
  "vscode": {
   "interpreter": {
    "hash": "916dbcbb3f70747c44a77c7bcd40155683ae19c65e1c03b4aa3499c5328201f1"
   }
  }
 },
 "nbformat": 4,
 "nbformat_minor": 2
}
