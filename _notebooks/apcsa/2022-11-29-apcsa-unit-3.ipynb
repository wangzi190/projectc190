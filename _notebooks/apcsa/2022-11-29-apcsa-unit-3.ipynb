{
 "cells": [
  {
   "cell_type": "markdown",
   "metadata": {},
   "source": [
    "Unit 3: Boolean Expressions and if Statements"
   ]
  },
  {
   "cell_type": "code",
   "execution_count": null,
   "metadata": {},
   "outputs": [],
   "source": [
    "// 2009 Collegeboard FRQ 3b\n",
    "public int getChargeStartTime(int chargeTime) {\n",
    "    int startTime = 0;\n",
    "    for (int i = 1; i < 24; i++) {\n",
    "        if (this.getChargingCost(i, chargeTime) < this.getChargingCost(startTime, chargeTime)) {\n",
    "            startTime = i;\n",
    "        }\n",
    "    }\n",
    "    return startTime;\n",
    "}"
   ]
  },
  {
   "cell_type": "code",
   "execution_count": null,
   "metadata": {},
   "outputs": [],
   "source": [
    "// 2017 Collegeboard FRQ 1b\n",
    "public boolean isStrictlyIncreasing() {\n",
    "    for (int i = 0; i < digitList.size()-1; i++) {\n",
    "        if (digitList.get(i).intValue() >= digitList.get(i+1).intValue()) {\n",
    "            return false;\n",
    "        }\n",
    "    }\n",
    "    return true;\n",
    "}"
   ]
  },
  {
   "cell_type": "code",
   "execution_count": null,
   "metadata": {},
   "outputs": [],
   "source": [
    "// 2019 Collegeboard FRQ 3b\n",
    "public boolean isBalanced(ArrayList<String> delimiters) {\n",
    "    int openCount = 0;\n",
    "    int closeCount = 0;\n",
    "    for (String str : delimiters) {\n",
    "        if (str.equals(openDel)) {\n",
    "            openCount++;\n",
    "        } else {\n",
    "            closeCount++;\n",
    "        }\n",
    "        if (closeCount > openCount) {\n",
    "            return false;\n",
    "        }\n",
    "    }\n",
    "\n",
    "    if (openCount == closeCount) {\n",
    "        return true;\n",
    "    } else {\n",
    "        return false;\n",
    "    }\n",
    "}"
   ]
  }
 ],
 "metadata": {
  "kernelspec": {
   "display_name": "Java",
   "language": "java",
   "name": "java"
  },
  "language_info": {
   "codemirror_mode": "java",
   "file_extension": ".jshell",
   "mimetype": "text/x-java-source",
   "name": "java",
   "pygments_lexer": "java",
   "version": "11.0.16+8-post-Ubuntu-0ubuntu120.04"
  },
  "orig_nbformat": 4,
  "vscode": {
   "interpreter": {
    "hash": "c2ed1c1e3dda2d1d09010f3df351d528d97a393444344645f0fddd23da56b409"
   }
  }
 },
 "nbformat": 4,
 "nbformat_minor": 2
}
