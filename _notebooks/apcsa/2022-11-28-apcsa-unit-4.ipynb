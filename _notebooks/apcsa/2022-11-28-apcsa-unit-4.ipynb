{
 "cells": [
  {
   "cell_type": "markdown",
   "metadata": {},
   "source": [
    "Unit 4: Iteration"
   ]
  },
  {
   "attachments": {},
   "cell_type": "markdown",
   "metadata": {},
   "source": [
    "Write a program where the user inputs their monthly budget. The loop should then ask the user to input each of their monthly expenses. These expenses should be kept in a running total. The final output should display if the user is over or under their budget for the month, and by how much."
   ]
  },
  {
   "cell_type": "code",
   "execution_count": 2,
   "metadata": {
    "vscode": {
     "languageId": "java"
    }
   },
   "outputs": [
    {
     "name": "stdout",
     "output_type": "stream",
     "text": [
      "(Integer values only!) Input your monthly budget.\n",
      "3000\n",
      "(Integer values only!) Now, input your monthly expenses. Input a zero when you are done.\n",
      "1000\n",
      "(Integer values only!) Input another monthly expense. If you are done, input a zero.\n",
      "1000\n",
      "(Integer values only!) Input another monthly expense. If you are done, input a zero.\n",
      "1000\n",
      "(Integer values only!) Input another monthly expense. If you are done, input a zero.\n",
      "0\n",
      "This month, you will spend your budget exactly.\n"
     ]
    }
   ],
   "source": [
    "import java.lang.Math;\n",
    "\n",
    "int totalExpenses;\n",
    "int difference;\n",
    "int stop = 0;\n",
    "\n",
    "System.out.println(\"(Integer values only!) Input your monthly budget.\");\n",
    "Scanner sc = new Scanner(System.in);\n",
    "String input = sc.nextLine();\n",
    "int budget = Integer.parseInt(input);\n",
    "System.out.println(budget);\n",
    "\n",
    "System.out.println(\"(Integer values only!) Now, input your monthly expenses. Input a zero when you are done.\");\n",
    "input = sc.nextLine();\n",
    "int expense = Integer.parseInt(input);\n",
    "System.out.println(expense);\n",
    "while (stop == 0) {\n",
    "    if (expense != 0) {\n",
    "        totalExpenses = totalExpenses + expense;\n",
    "        System.out.println(\"(Integer values only!) Input another monthly expense. If you are done, input a zero.\");\n",
    "        input = sc.nextLine();\n",
    "        expense = Integer.parseInt(input);\n",
    "        System.out.println(expense);\n",
    "    } else {\n",
    "        difference = budget - totalExpenses;\n",
    "        if (difference < 0) {\n",
    "            difference = Math.abs(difference);\n",
    "            System.out.println(\"Your expenses exceed your budget by \" + difference);\n",
    "        } else if (difference > 0) {\n",
    "            System.out.println(\"Your budget is \" + difference + \" greater than your expenses.\");\n",
    "        } else {\n",
    "            System.out.println(\"This month, you will spend your budget exactly.\");\n",
    "        }\n",
    "        stop = 1;\n",
    "    }\n",
    "}"
   ]
  }
 ],
 "metadata": {
  "kernelspec": {
   "display_name": "Java",
   "language": "java",
   "name": "java"
  },
  "language_info": {
   "codemirror_mode": "java",
   "file_extension": ".jshell",
   "mimetype": "text/x-java-source",
   "name": "Java",
   "pygments_lexer": "java",
   "version": "11.0.16+8-post-Ubuntu-0ubuntu120.04"
  },
  "orig_nbformat": 4,
  "vscode": {
   "interpreter": {
    "hash": "c2ed1c1e3dda2d1d09010f3df351d528d97a393444344645f0fddd23da56b409"
   }
  }
 },
 "nbformat": 4,
 "nbformat_minor": 2
}
