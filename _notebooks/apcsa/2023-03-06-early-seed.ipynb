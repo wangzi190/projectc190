{
 "cells": [
  {
   "cell_type": "code",
   "execution_count": null,
   "metadata": {},
   "outputs": [],
   "source": [
    "import java.io.*;\n",
    " \n",
    "// function to convert decimal to binary\n",
    "static void decToBinary(int n)\n",
    "{\n",
    "    // array to store binary number\n",
    "    int[] binaryNum = new int[1000];\n",
    "  \n",
    "    // counter for binary array\n",
    "    int i = 0;\n",
    "    while (n > 0) {\n",
    "        // storing remainder in binary array\n",
    "        binaryNum[i] = n % 2;\n",
    "        n = n / 2;\n",
    "        i++;\n",
    "    }\n",
    "    // printing binary array in reverse order\n",
    "    for (int j = i - 1; j >= 0; j--) {\n",
    "        System.out.print(binaryNum[j]);\n",
    "    }\n",
    "}\n",
    "\n",
    "public static void main (String[] args){\n",
    "    int n = 17;\n",
    "    System.out.println(\"Decimal - \" + n);\n",
    "    System.out.print(\"Binary - \");\n",
    "    decToBinary(n);\n",
    "}"
   ]
  }
 ],
 "metadata": {
  "kernelspec": {
   "display_name": "Java",
   "language": "java",
   "name": "java"
  },
  "language_info": {
   "codemirror_mode": "java",
   "file_extension": ".jshell",
   "mimetype": "text/x-java-source",
   "name": "java",
   "pygments_lexer": "java",
   "version": "11.0.16+8-post-Ubuntu-0ubuntu120.04"
  },
  "orig_nbformat": 4
 },
 "nbformat": 4,
 "nbformat_minor": 2
}
