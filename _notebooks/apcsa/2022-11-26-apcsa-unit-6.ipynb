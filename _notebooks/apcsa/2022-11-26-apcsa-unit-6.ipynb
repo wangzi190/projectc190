{
 "cells": [
  {
   "attachments": {},
   "cell_type": "markdown",
   "metadata": {},
   "source": [
    "Unit 6: Arrays"
   ]
  },
  {
   "cell_type": "code",
   "execution_count": 4,
   "metadata": {
    "vscode": {
     "languageId": "java"
    }
   },
   "outputs": [
    {
     "name": "stdout",
     "output_type": "stream",
     "text": [
      "First and Last Element Swap: \n",
      "9\n",
      "3\n",
      "5\n",
      "7\n",
      "1\n",
      "Replacing All Elements w/ Zero: \n",
      "0\n",
      "0\n",
      "0\n",
      "0\n",
      "0\n"
     ]
    }
   ],
   "source": [
    "public class ArrayMethods {\n",
    "    private int[] values = {1, 3, 5, 7, 9};\n",
    "\n",
    "    public void printElements(){\n",
    "        for(int i = 0; i < values.length; i++){\n",
    "            System.out.println(values[i]);\n",
    "        }\n",
    "    }\n",
    "\n",
    "    public void swapElements(){\n",
    "        int temp = values[values.length-1];\n",
    "        values[values.length-1] = values[0];\n",
    "        values[0] = temp;\n",
    "    }\n",
    "\n",
    "    public void replaceZero(){\n",
    "        for(int i = 0; i < values.length; i++){\n",
    "            values[i] = 0;\n",
    "        }\n",
    "    }\n",
    "\n",
    "    public static void main(String[] args){\n",
    "        \n",
    "        System.out.println(\"First and Last Element Swap: \");\n",
    "        ArrayMethods swapElements = new ArrayMethods();\n",
    "        swapElements.swapElements();\n",
    "        swapElements.printElements();\n",
    "\n",
    "        System.out.println(\"Replacing All Elements w/ Zero: \");\n",
    "        ArrayMethods replaceZero = new ArrayMethods();\n",
    "        swapElements.replaceZero();\n",
    "        swapElements.printElements();\n",
    "    }\n",
    "}\n",
    "ArrayMethods.main(null);"
   ]
  }
 ],
 "metadata": {
  "kernelspec": {
   "display_name": "Java",
   "language": "java",
   "name": "java"
  },
  "language_info": {
   "codemirror_mode": "java",
   "file_extension": ".jshell",
   "mimetype": "text/x-java-source",
   "name": "Java",
   "pygments_lexer": "java",
   "version": "11.0.16+8-post-Ubuntu-0ubuntu120.04"
  },
  "orig_nbformat": 4,
  "vscode": {
   "interpreter": {
    "hash": "c2ed1c1e3dda2d1d09010f3df351d528d97a393444344645f0fddd23da56b409"
   }
  }
 },
 "nbformat": 4,
 "nbformat_minor": 2
}
