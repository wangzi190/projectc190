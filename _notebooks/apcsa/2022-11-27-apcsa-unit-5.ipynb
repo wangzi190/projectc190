{
 "cells": [
  {
   "cell_type": "markdown",
   "metadata": {},
   "source": [
    "Unit 5: Writing Classes"
   ]
  },
  {
   "cell_type": "code",
   "execution_count": null,
   "metadata": {},
   "outputs": [],
   "source": [
    "// 2021 Collegeboard FRQ 1a\n",
    "\n",
    "public int scoreGuess(String guess) {\n",
    "    int count = 0;\n",
    "    for (int i = 0; i <= secret.length() - guess.length(); i++) {\n",
    "        if (secret.substring(i, i + guess.length()) == guess) {\n",
    "            count++;\n",
    "        }\n",
    "    }\n",
    "    return count * guess.length() * guess.length();\n",
    "}"
   ]
  },
  {
   "cell_type": "code",
   "execution_count": null,
   "metadata": {},
   "outputs": [],
   "source": [
    "// 2021 Collegeboard FRQ 3a\n",
    "\n",
    "public void addMembers(String[] names, int gradYear) {\n",
    "    for (int i = 0; i < names.length; i++) {\n",
    "        MemberInfo newM = new MemberInfo(n, gradYear, true);\n",
    "        memberList.add(newM);\n",
    "    }\n",
    "}"
   ]
  }
 ],
 "metadata": {
  "kernelspec": {
   "display_name": "Java",
   "language": "java",
   "name": "java"
  },
  "language_info": {
   "codemirror_mode": "java",
   "file_extension": ".jshell",
   "mimetype": "text/x-java-source",
   "name": "java",
   "pygments_lexer": "java",
   "version": "11.0.16+8-post-Ubuntu-0ubuntu120.04"
  },
  "orig_nbformat": 4,
  "vscode": {
   "interpreter": {
    "hash": "c2ed1c1e3dda2d1d09010f3df351d528d97a393444344645f0fddd23da56b409"
   }
  }
 },
 "nbformat": 4,
 "nbformat_minor": 2
}
