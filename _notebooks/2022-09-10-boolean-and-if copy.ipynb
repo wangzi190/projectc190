{
 "cells": [
  {
   "cell_type": "markdown",
   "metadata": {},
   "source": [
    "# Boolean Expressions and If Statements\n",
    "\n",
    "- toc: true \n",
    "- badges: true\n",
    "- comments: true"
   ]
  },
  {
   "cell_type": "markdown",
   "metadata": {},
   "source": [
    "An \"if\" statement is a control structure where the code contained within the brackets of the statement is executed if the boolean attributed to it is true. For example, you could write an if statement stating: \"If x = 1, then...\" and the following code will only run if the condition, x = 1, is true."
   ]
  },
  {
   "cell_type": "code",
   "execution_count": null,
   "metadata": {},
   "outputs": [],
   "source": [
    "int x = 1;\n",
    "if (x = 1) { //Fairly straightforward. If x = 1, the below code will run.\n",
    "    //If x does not equal one, this code will not run at all.\n",
    "    System.out.println(\"The boolean attributed to this if statement is true.\");\n",
    "}"
   ]
  },
  {
   "cell_type": "markdown",
   "metadata": {},
   "source": [
    "If-else, on the other hand, offers an alternative option in the case that the boolean is not true. Below is an example."
   ]
  },
  {
   "cell_type": "code",
   "execution_count": null,
   "metadata": {},
   "outputs": [],
   "source": [
    "int x = 0;\n",
    "if (x = 1) {\n",
    "    System.out.println(\"The boolean attributed to this if statement is true.\");\n",
    "} else {\n",
    "    System.out.println(\"The boolean attributed to this if statement is false, so the code inside the ''else'' brackets ran instead.\");\n",
    "}"
   ]
  },
  {
   "cell_type": "markdown",
   "metadata": {},
   "source": [
    "You can also create nested conditionals, or nested if or if-else statements (These are the statements referred to as if-else if-else on the APCSA Github pages. For convinience, I am just calling them nested conditionals.). Below is an example with 5 possible conditions."
   ]
  },
  {
   "cell_type": "code",
   "execution_count": null,
   "metadata": {},
   "outputs": [],
   "source": [
    "int x = 5;\n",
    "if (x = 1) { //Here is the first if-else statement.\n",
    "    System.out.println(\"Variable x is equal to 1.\");\n",
    "} else {\n",
    "    if (x = 2) { //Here is an if-else statement nested within the first one.\n",
    "        System.out.println(\"Variable x is equal to 2.\");\n",
    "    } else {\n",
    "        if (x = 3) { //Another if-else...\n",
    "            System.out.println(\"Variable x is equal to 3.\");\n",
    "        } else {\n",
    "            if (x = 4) { //Another...\n",
    "                System.out.println(\"Variable x is equal to 4.\");\n",
    "            } else {\n",
    "                System.out.println(\"Variable x is not equal to 1, 2, 3, or 4.\");\n",
    "            }\n",
    "        }\n",
    "    }\n",
    "}"
   ]
  },
  {
   "cell_type": "markdown",
   "metadata": {},
   "source": [
    "For situations with many possible cases, you can also write a switch case. Below is the same example as above, only written as a switch case."
   ]
  },
  {
   "cell_type": "code",
   "execution_count": null,
   "metadata": {},
   "outputs": [],
   "source": [
    "int x = 5;\n",
    "switch(x) {\n",
    "    case 1: //Runs if the expression, x, is equal to 1.\n",
    "        System.out.println(\"Variable x is equal to 1.\");\n",
    "    break; //The code will \"break\" out of the switch case at this point.\n",
    "    //As in, the code from the \"break\" point onwards will not run.\n",
    "    \n",
    "    case 2: //Runs if the expression, x, is equal to 2.\n",
    "        System.out.println(\"Variable x is equal to 2.\");\n",
    "    break;\n",
    "\n",
    "    case 3: //Same idea as the above.\n",
    "        System.out.println(\"Variable x is equal to 3.\");\n",
    "    break;\n",
    "\n",
    "    case 4: //Same idea as the above.\n",
    "        System.out.println(\"Variable x is equal to 4.\");\n",
    "    break;\n",
    "\n",
    "    default:\n",
    "        /*Runs if none of the above cases match the condition.\n",
    "        Often used for error handling.*/\n",
    "        System.out.println(\"Variable x is not equal to 1, 2, 3, or 4.\");\n",
    "    break;\n",
    "} "
   ]
  },
  {
   "cell_type": "markdown",
   "metadata": {},
   "source": [
    "Now, onto De Morgan's Law. In simple terms, De Morgan's law states that the conditional NOT(A and B) is the equivalent of NOT A or NOT B. Likewise, NOT(A or B) is the same as NOT A and NOT B. In Java code, these laws also hold true. Here is code to demonstrate:"
   ]
  },
  {
   "cell_type": "code",
   "execution_count": 2,
   "metadata": {},
   "outputs": [
    {
     "name": "stdout",
     "output_type": "stream",
     "text": [
      "If this line prints, it proves that (NOT(A and B)) and (NOT A or NOT B) can both be true.\n",
      "If this line prints, it proves that (NOT(A or B)) and (NOT A and NOT B) can both be true.\n"
     ]
    }
   ],
   "source": [
    "boolean a = false;\n",
    "boolean b = false;\n",
    "/*\n",
    "! is the \"not\" operator. !a means \"not a.\"\n",
    "&& is the \"and\" operator. a && b means \"a and b.\"\n",
    "|| is the \"or\" operator. a || b means \"a or b.\"\n",
    "The statement \"if a && b\" will run if both a and b are true.\n",
    "The statement if \"!a && !b\" will run if both a and b are false.\n",
    "Below is the example to show that De Morgan's law is valid.\n",
    "*/\n",
    "if (!(a && b) && (!a || !b)) {\n",
    "    System.out.println(\"If this line prints, it proves that (NOT(A and B)) and (NOT A or NOT B) can both be true.\");\n",
    "}\n",
    "if (!(a || b) && (!a && !b)) {\n",
    "    System.out.println(\"If this line prints, it proves that (NOT(A or B)) and (NOT A and NOT B) can both be true.\");\n",
    "}"
   ]
  }
 ],
 "metadata": {
  "kernelspec": {
   "display_name": "Java",
   "language": "java",
   "name": "java"
  },
  "language_info": {
   "codemirror_mode": "java",
   "file_extension": ".jshell",
   "mimetype": "text/x-java-source",
   "name": "java",
   "pygments_lexer": "java",
   "version": "11.0.16+8-post-Ubuntu-0ubuntu120.04"
  },
  "orig_nbformat": 4
 },
 "nbformat": 4,
 "nbformat_minor": 2
}
