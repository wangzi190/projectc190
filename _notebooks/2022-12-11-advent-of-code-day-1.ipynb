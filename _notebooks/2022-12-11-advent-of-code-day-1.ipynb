{
 "cells": [
  {
   "cell_type": "markdown",
   "metadata": {},
   "source": [
    "<b>Advent of Code Day 1</b>"
   ]
  },
  {
   "attachments": {},
   "cell_type": "markdown",
   "metadata": {},
   "source": [
    "Okay I considered making fetch requests to the puzzle input URL instead of saving locally but I'm worried about making too many requests (I'm not sure how to cache the info rn) so maybe later or not at all??"
   ]
  },
  {
   "cell_type": "code",
   "execution_count": null,
   "metadata": {},
   "outputs": [],
   "source": [
    "import java.io.File;\n",
    "import java.util.Scanner;\n",
    "\n",
    "File input = new File(\"inputs/day-1.txt\");\n",
    "Scanner sc = new Scanner(input);\n",
    "String line;\n",
    "        \n",
    "while(sc.hasNextLine()){\n",
    "    line = sc.nextLine();\n",
    "    /* code code\n",
    "     need to be able to detect line breaks*/\n",
    "}\n",
    "sc.close();"
   ]
  }
 ],
 "metadata": {
  "kernelspec": {
   "display_name": "Java",
   "language": "java",
   "name": "java"
  },
  "language_info": {
   "codemirror_mode": "java",
   "file_extension": ".jshell",
   "mimetype": "text/x-java-source",
   "name": "java",
   "pygments_lexer": "java",
   "version": "11.0.16+8-post-Ubuntu-0ubuntu120.04"
  },
  "orig_nbformat": 4,
  "vscode": {
   "interpreter": {
    "hash": "916dbcbb3f70747c44a77c7bcd40155683ae19c65e1c03b4aa3499c5328201f1"
   }
  }
 },
 "nbformat": 4,
 "nbformat_minor": 2
}
