{
 "cells": [
  {
   "cell_type": "markdown",
   "metadata": {},
   "source": [
    "Unit 1: Primitive Types"
   ]
  },
  {
   "cell_type": "code",
   "execution_count": null,
   "metadata": {},
   "outputs": [],
   "source": [
    "// 2006 Collegeboard FRQ 2a\n",
    "\n",
    "public double purchasePrice() {\n",
    "    return (1 + taxRate) * getListPrice();\n",
    "}"
   ]
  },
  {
   "cell_type": "code",
   "execution_count": null,
   "metadata": {},
   "outputs": [],
   "source": [
    "// 2006 Collegeboard FRQ 2b\n",
    "\n",
    "public class Vehicle extends TaxableItem {\n",
    "    private double dealerCost;\n",
    "    private double dealerMarkup;\n",
    "\n",
    "    public Vehicle(double cost, double markup, double rate) {\n",
    "        super(rate);\n",
    "        dealerCost = cost;\n",
    "        dealerMarkup = markup;\n",
    "    }\n",
    "\n",
    "    public void changeMarkup(double newMarkup) {\n",
    "        dealerMarkup = newMarkup;\n",
    "    }\n",
    "\n",
    "    public double getListPrice() {\n",
    "        return dealerCost + dealerMarkup;\n",
    "    }\n",
    "}"
   ]
  },
  {
   "cell_type": "code",
   "execution_count": 1,
   "metadata": {},
   "outputs": [
    {
     "name": "stdout",
     "output_type": "stream",
     "text": [
      "400\n",
      "400\n"
     ]
    }
   ],
   "source": [
    "// 1.4 Compound Assignment Operators\n",
    "// Compound Bitwise\n",
    "\n",
    "int x = 50; // 50 in binary = 110010\n",
    "x <<= 3; // assigns 50 left-shifted 3 times (110010000, or 400 in decimal) to variable x\n",
    "int y = 50 << 3; // assigns 50 left-shifted 3 times to y directly\n",
    "\n",
    "System.out.println(x);\n",
    "System.out.println(y);\n",
    "\n",
    "// vv Both variables are 400 !"
   ]
  }
 ],
 "metadata": {
  "kernelspec": {
   "display_name": "Java",
   "language": "java",
   "name": "java"
  },
  "language_info": {
   "codemirror_mode": "java",
   "file_extension": ".jshell",
   "mimetype": "text/x-java-source",
   "name": "java",
   "pygments_lexer": "java",
   "version": "11.0.16+8-post-Ubuntu-0ubuntu120.04"
  },
  "orig_nbformat": 4,
  "vscode": {
   "interpreter": {
    "hash": "c2ed1c1e3dda2d1d09010f3df351d528d97a393444344645f0fddd23da56b409"
   }
  }
 },
 "nbformat": 4,
 "nbformat_minor": 2
}
