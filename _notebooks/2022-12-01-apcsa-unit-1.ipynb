{
 "cells": [
  {
   "cell_type": "markdown",
   "metadata": {},
   "source": [
    "Unit 1: Primitive Types"
   ]
  },
  {
   "cell_type": "code",
   "execution_count": 1,
   "metadata": {},
   "outputs": [
    {
     "name": "stdout",
     "output_type": "stream",
     "text": [
      "Original: [addition, subtraction, multiplication, division, square root, exponent, logarithm]\n"
     ]
    }
   ],
   "source": [
    "// 2006 Collegeboard FRQ 2a\n",
    "import java.util.ArrayList;\n",
    "\n",
    "ArrayList<String> math = new ArrayList<String>();\n",
    "\n",
    "List<String> basic = new ArrayList<String>();\n",
    "List<String> advanced = new ArrayList<String>();\n",
    "\n",
    "basic.add(\"addition\");\n",
    "basic.add(\"subtraction\");\n",
    "basic.add(\"multiplication\");\n",
    "basic.add(\"division\");\n",
    "\n",
    "advanced.add(\"square root\");\n",
    "advanced.add(\"exponent\");\n",
    "advanced.add(\"logarithm\");\n",
    "\n",
    "math.addAll(basic);\n",
    "math.addAll(advanced);\n",
    "\n",
    "System.out.println(\"Original: \" + math);"
   ]
  },
  {
   "cell_type": "code",
   "execution_count": null,
   "metadata": {},
   "outputs": [],
   "source": [
    "// 2006 Collegeboard FRQ 2b"
   ]
  }
 ],
 "metadata": {
  "kernelspec": {
   "display_name": "Java",
   "language": "java",
   "name": "java"
  },
  "language_info": {
   "codemirror_mode": "java",
   "file_extension": ".jshell",
   "mimetype": "text/x-java-source",
   "name": "java",
   "pygments_lexer": "java",
   "version": "11.0.16+8-post-Ubuntu-0ubuntu120.04"
  },
  "orig_nbformat": 4,
  "vscode": {
   "interpreter": {
    "hash": "c2ed1c1e3dda2d1d09010f3df351d528d97a393444344645f0fddd23da56b409"
   }
  }
 },
 "nbformat": 4,
 "nbformat_minor": 2
}
