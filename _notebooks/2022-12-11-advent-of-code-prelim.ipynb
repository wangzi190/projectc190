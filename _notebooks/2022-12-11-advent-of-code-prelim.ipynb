{
 "cells": [
  {
   "cell_type": "markdown",
   "metadata": {},
   "source": [
    "<b>Advent of Code Preliminary</b>"
   ]
  },
  {
   "cell_type": "markdown",
   "metadata": {},
   "source": [
    "Going Java<br>\n",
    "Need to figure out how to take a file as input"
   ]
  },
  {
   "cell_type": "code",
   "execution_count": 5,
   "metadata": {
    "vscode": {
     "languageId": "java"
    }
   },
   "outputs": [
    {
     "name": "stdout",
     "output_type": "stream",
     "text": [
      "testing\n",
      "testing\n",
      "123\n"
     ]
    }
   ],
   "source": [
    "// Test\n",
    "import java.io.File;\n",
    "import java.util.Scanner;\n",
    "\n",
    "File input = new File(\"inputs/test.txt\");\n",
    "Scanner sc = new Scanner(input);\n",
    "// BufferedReader br = new BufferedReader(new FileReader(input));\n",
    "String line;\n",
    "        \n",
    "while(sc.hasNextLine()){\n",
    "    line = sc.nextLine();\n",
    "    System.out.println(line);\n",
    "}\n",
    "sc.close();"
   ]
  },
  {
   "cell_type": "markdown",
   "metadata": {},
   "source": [
    "Sweet that was easy enough"
   ]
  }
 ],
 "metadata": {
  "kernelspec": {
   "display_name": "Java",
   "language": "java",
   "name": "java"
  },
  "language_info": {
   "codemirror_mode": "java",
   "file_extension": ".jshell",
   "mimetype": "text/x-java-source",
   "name": "Java",
   "pygments_lexer": "java",
   "version": "11.0.16+8-post-Ubuntu-0ubuntu120.04"
  },
  "orig_nbformat": 4,
  "vscode": {
   "interpreter": {
    "hash": "693be025fb90299e90660cd99dd0680c3ec09b63983e312d186841d27cebd538"
   }
  }
 },
 "nbformat": 4,
 "nbformat_minor": 2
}
