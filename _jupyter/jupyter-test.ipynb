{
 "cells": [
  {
   "cell_type": "code",
   "execution_count": null,
   "metadata": {
    "vscode": {
     "languageId": "java"
    }
   },
   "outputs": [],
   "source": [
    "import java.util.ArrayList; // import package\n",
    "\n",
    "ArrayList<String> math = new ArrayList<String>(); // new arraylist\n",
    "\n",
    "List<String> basic = new ArrayList<String>(); // 2 lists to be added to arraylist\n",
    "List<String> advanced = new ArrayList<String>();\n",
    "\n",
    "basic.add(\"addition\"); // adding these items to basic list\n",
    "basic.add(\"subtraction\");\n",
    "basic.add(\"multiplication\");\n",
    "basic.add(\"division\");\n",
    "\n",
    "advanced.add(\"square root\"); // adding to advanced list\n",
    "advanced.add(\"exponent\");\n",
    "advanced.add(\"logarithm\");\n",
    "\n",
    "math.addAll(basic);\n",
    "math.addAll(advanced); // adding 2 lists to math\n",
    "\n",
    "System.out.println(\"Original: \" + math); // math has all items from both"
   ]
  }
 ],
 "metadata": {
  "kernelspec": {
   "display_name": "Python 3.10.5 64-bit",
   "language": "python",
   "name": "python3"
  },
  "language_info": {
   "codemirror_mode": {
    "name": "ipython",
    "version": 3
   },
   "file_extension": ".py",
   "mimetype": "text/x-python",
   "name": "python",
   "nbconvert_exporter": "python",
   "pygments_lexer": "ipython3",
   "version": "3.10.5"
  },
  "orig_nbformat": 4,
  "vscode": {
   "interpreter": {
    "hash": "c2ed1c1e3dda2d1d09010f3df351d528d97a393444344645f0fddd23da56b409"
   }
  }
 },
 "nbformat": 4,
 "nbformat_minor": 2
}
